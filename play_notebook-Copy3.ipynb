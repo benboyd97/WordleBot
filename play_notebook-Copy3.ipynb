{
 "cells": [
  {
   "cell_type": "code",
   "execution_count": 1,
   "id": "3dcfcb4f",
   "metadata": {},
   "outputs": [],
   "source": [
    "from wbot import read,play,solve\n",
    "import numpy as np\n",
    "\n",
    "plist=read.word_list('possible')\n",
    "glist=read.word_list('allowed')\n",
    "\n",
    "\n",
    "big_arr=np.load('wbot/all_tiles.npz')['data']\n",
    "sal_patterns=np.load('wbot/salet_patterns.npy')\n",
    "sal_guess=np.load('wbot/salet_guess.npy')\n",
    "\n"
   ]
  },
  {
   "cell_type": "code",
   "execution_count": null,
   "id": "8359d3fe",
   "metadata": {},
   "outputs": [],
   "source": [
    "%%timeit\n",
    "w='genie'\n",
    "ts=play.tiles(w,'salet')\n",
    "tgrid,plist_=solve.reduce('salet',ts,big_arr,np.array(plist),np.array(glist))\n",
    "\n",
    "guess=sal_guess[np.where(np.prod(sal_patterns ==ts, axis = -1))[0][0]]\n",
    "count=1\n",
    "\n",
    "\n",
    "while len(plist_)>5:\n",
    "        \n",
    "    count+=1\n",
    "    ts=play.tiles(w,guess)\n",
    "    \n",
    "    tgrid,plist_=solve.reduce(guess,ts,tgrid,plist_,np.array(glist))\n",
    "\n",
    "    if ts!=[2,2,2,2,2]:\n",
    "\n",
    "        x=solve.info_grid(tgrid)\n",
    "\n",
    "        guess=glist[np.argmax(x)]\n",
    "            \n",
    "    else:\n",
    "        break\n",
    "\n",
    "    \n",
    "if ts==[2,2,2,2,2]:\n",
    "    print(w,guess,count)\n",
    "elif count==1:\n",
    "    x=solve.info_grid(tgrid)\n",
    "    count=solve.cut_off(w,tgrid,plist_,np.array(glist),x,count)  \n",
    "    \n",
    "else:\n",
    "    count=solve.cut_off(w,tgrid,plist_,np.array(glist),x,count) \n",
    "    \n",
    "\n",
    "        "
   ]
  },
  {
   "cell_type": "code",
   "execution_count": 2,
   "id": "490e0755",
   "metadata": {},
   "outputs": [
    {
     "name": "stdout",
     "output_type": "stream",
     "text": [
      "aback aback 3\n",
      "3.0\n",
      "abase abase 3\n",
      "3.0\n",
      "abate abate 3\n",
      "3.0\n",
      "abbey abbey 3\n",
      "3.0\n",
      "abbot abbot 3\n",
      "3.0\n",
      "abhor abhor 3\n",
      "3.0\n",
      "abide abide 3\n",
      "3.0\n",
      "abled abled 2\n",
      "2.875\n",
      "abode abode 4\n",
      "3.0\n",
      "abort abort 3\n",
      "3.0\n",
      "about about 3\n",
      "3.0\n",
      "above above 3\n",
      "3.0\n",
      "abuse abuse 3\n",
      "3.0\n",
      "abyss abyss 3\n",
      "3.0\n"
     ]
    },
    {
     "ename": "KeyboardInterrupt",
     "evalue": "",
     "output_type": "error",
     "traceback": [
      "\u001b[0;31m---------------------------------------------------------------------------\u001b[0m",
      "\u001b[0;31mKeyboardInterrupt\u001b[0m                         Traceback (most recent call last)",
      "\u001b[0;32m/tmp/ipykernel_7122/2850268683.py\u001b[0m in \u001b[0;36m<module>\u001b[0;34m\u001b[0m\n\u001b[1;32m      4\u001b[0m     \u001b[0mts\u001b[0m\u001b[0;34m=\u001b[0m\u001b[0mplay\u001b[0m\u001b[0;34m.\u001b[0m\u001b[0mtiles\u001b[0m\u001b[0;34m(\u001b[0m\u001b[0mw\u001b[0m\u001b[0;34m,\u001b[0m\u001b[0;34m'salet'\u001b[0m\u001b[0;34m)\u001b[0m\u001b[0;34m\u001b[0m\u001b[0;34m\u001b[0m\u001b[0m\n\u001b[1;32m      5\u001b[0m \u001b[0;34m\u001b[0m\u001b[0m\n\u001b[0;32m----> 6\u001b[0;31m     \u001b[0mtgrid\u001b[0m\u001b[0;34m,\u001b[0m\u001b[0mplist_\u001b[0m\u001b[0;34m=\u001b[0m\u001b[0msolve\u001b[0m\u001b[0;34m.\u001b[0m\u001b[0mreduce\u001b[0m\u001b[0;34m(\u001b[0m\u001b[0;34m'salet'\u001b[0m\u001b[0;34m,\u001b[0m\u001b[0mts\u001b[0m\u001b[0;34m,\u001b[0m\u001b[0mbig_arr\u001b[0m\u001b[0;34m,\u001b[0m\u001b[0mnp\u001b[0m\u001b[0;34m.\u001b[0m\u001b[0marray\u001b[0m\u001b[0;34m(\u001b[0m\u001b[0mplist\u001b[0m\u001b[0;34m)\u001b[0m\u001b[0;34m,\u001b[0m\u001b[0mnp\u001b[0m\u001b[0;34m.\u001b[0m\u001b[0marray\u001b[0m\u001b[0;34m(\u001b[0m\u001b[0mglist\u001b[0m\u001b[0;34m)\u001b[0m\u001b[0;34m)\u001b[0m\u001b[0;34m\u001b[0m\u001b[0;34m\u001b[0m\u001b[0m\n\u001b[0m\u001b[1;32m      7\u001b[0m \u001b[0;34m\u001b[0m\u001b[0m\n\u001b[1;32m      8\u001b[0m     \u001b[0mguess\u001b[0m\u001b[0;34m=\u001b[0m\u001b[0msal_guess\u001b[0m\u001b[0;34m[\u001b[0m\u001b[0mnp\u001b[0m\u001b[0;34m.\u001b[0m\u001b[0mwhere\u001b[0m\u001b[0;34m(\u001b[0m\u001b[0mnp\u001b[0m\u001b[0;34m.\u001b[0m\u001b[0mprod\u001b[0m\u001b[0;34m(\u001b[0m\u001b[0msal_patterns\u001b[0m \u001b[0;34m==\u001b[0m\u001b[0mts\u001b[0m\u001b[0;34m,\u001b[0m \u001b[0maxis\u001b[0m \u001b[0;34m=\u001b[0m \u001b[0;34m-\u001b[0m\u001b[0;36m1\u001b[0m\u001b[0;34m)\u001b[0m\u001b[0;34m)\u001b[0m\u001b[0;34m[\u001b[0m\u001b[0;36m0\u001b[0m\u001b[0;34m]\u001b[0m\u001b[0;34m[\u001b[0m\u001b[0;36m0\u001b[0m\u001b[0;34m]\u001b[0m\u001b[0;34m]\u001b[0m\u001b[0;34m\u001b[0m\u001b[0;34m\u001b[0m\u001b[0m\n",
      "\u001b[0;32m~/WordleBot/wbot/solve.py\u001b[0m in \u001b[0;36mreduce\u001b[0;34m(guess, tiles, tgrid, plist, glist)\u001b[0m\n\u001b[1;32m     43\u001b[0m \u001b[0;34m\u001b[0m\u001b[0m\n\u001b[1;32m     44\u001b[0m     \u001b[0;31m#output the tile grid and word lists containing only these possible tiles.\u001b[0m\u001b[0;34m\u001b[0m\u001b[0;34m\u001b[0m\u001b[0m\n\u001b[0;32m---> 45\u001b[0;31m     \u001b[0;32mreturn\u001b[0m \u001b[0mtgrid\u001b[0m\u001b[0;34m[\u001b[0m\u001b[0;34m:\u001b[0m\u001b[0;34m,\u001b[0m\u001b[0mw\u001b[0m\u001b[0;34m,\u001b[0m\u001b[0;34m:\u001b[0m\u001b[0;34m]\u001b[0m\u001b[0;34m,\u001b[0m\u001b[0mplist\u001b[0m\u001b[0;34m[\u001b[0m\u001b[0mw\u001b[0m\u001b[0;34m]\u001b[0m\u001b[0;34m\u001b[0m\u001b[0;34m\u001b[0m\u001b[0m\n\u001b[0m\u001b[1;32m     46\u001b[0m \u001b[0;34m\u001b[0m\u001b[0m\n\u001b[1;32m     47\u001b[0m \u001b[0;34m\u001b[0m\u001b[0m\n",
      "\u001b[0;31mKeyboardInterrupt\u001b[0m: "
     ]
    }
   ],
   "source": [
    "res=[]\n",
    "for i,w in enumerate(plist):\n",
    "    \n",
    "    ts=play.tiles(w,'salet')\n",
    "    \n",
    "    tgrid,plist_=solve.reduce('salet',ts,big_arr,np.array(plist),np.array(glist))\n",
    "\n",
    "    guess=sal_guess[np.where(np.prod(sal_patterns ==ts, axis = -1))[0][0]]\n",
    "\n",
    "    count=1\n",
    "\n",
    "    while len(plist_)>5:\n",
    "        \n",
    "        count+=1\n",
    "        \n",
    "        ts=play.tiles(w,guess)\n",
    "\n",
    "        tgrid,plist_=solve.reduce(guess,ts,tgrid,plist_,np.array(glist))\n",
    "        \n",
    "        if ts!=[2,2,2,2,2]:\n",
    "\n",
    "            x=solve.info_grid(tgrid)\n",
    "\n",
    "            guess=glist[np.argmax(x)]\n",
    "            \n",
    "        else:\n",
    "            break\n",
    "        \n",
    "    \n",
    "    \n",
    "    \n",
    "    if ts==[2,2,2,2,2]:\n",
    "        print(w,guess,count)\n",
    "        \n",
    "    elif count==1:\n",
    "        x=solve.info_grid(tgrid)\n",
    "        guess,count=solve.cut_off(w,tgrid,plist_,np.array(glist),x,count)  \n",
    "    \n",
    "    else:\n",
    "        guess,count=solve.cut_off(w,tgrid,plist_,np.array(glist),x,count) \n",
    "        \n",
    "    res+=[count]\n",
    "    print(np.mean(res))\n",
    "        "
   ]
  },
  {
   "cell_type": "code",
   "execution_count": null,
   "id": "83ab9662",
   "metadata": {},
   "outputs": [],
   "source": [
    "print('Guess: salet')\n",
    "ts=input('Type Tiles:')\n",
    "\n",
    "tgrid,plist_=solve.reduce('salet',[int(ts[0]),int(ts[1]),int(ts[2]),int(ts[3]),int(ts[4])],big_arr,np.array(plist),np.array(glist))\n",
    "\n",
    "x=solve.info_grid(tgrid)\n",
    "\n",
    "guess=glist[np.argmax(x)]\n",
    "\n",
    "count=1\n",
    "\n",
    "while len(plist_)>5:\n",
    "    \n",
    "    count+=1\n",
    "    \n",
    "    print('')\n",
    "    print('Possible Answers', len(plist_))\n",
    "    print('Next Guess: ',guess)\n",
    "    \n",
    "    ts=input('Type Tiles:')\n",
    "    \n",
    "    ts=[int(ts[0]),int(ts[1]),int(ts[2]),int(ts[3]),int(ts[4])]\n",
    "\n",
    "    tgrid,plist_=solve.reduce(guess,ts,tgrid,plist_,np.array(glist))\n",
    "    \n",
    "    if ts!=[2,2,2,2,2]:\n",
    "        x=solve.info_grid(tgrid)\n",
    "\n",
    "        guess=glist[np.argmax(x)]\n",
    "        \n",
    "    else:\n",
    "        break\n",
    "\n",
    "\n",
    "    \n",
    "if ts==[2,2,2,2,2]:\n",
    "    print('Done')\n",
    "    \n",
    "elif count==1:\n",
    "    x=solve.info_grid(tgrid)\n",
    "    solve.manual_cut_off(tgrid,plist_,np.array(glist),x)  \n",
    "    \n",
    "else:\n",
    "\n",
    "    \n",
    "    solve.manual_cut_off(tgrid,plist_,np.array(glist),x) \n",
    "\n"
   ]
  },
  {
   "cell_type": "code",
   "execution_count": 11,
   "id": "49b821cd",
   "metadata": {},
   "outputs": [
    {
     "name": "stdout",
     "output_type": "stream",
     "text": [
      "\u001b[37msome red text\u001b[37myeah\n",
      "\u001b[40mand with a green background\n",
      "\u001b[2mand in dim text\n",
      "\u001b[0m\n",
      "back to normal now\n"
     ]
    }
   ],
   "source": [
    "\n",
    "from colorama import Fore, Back, Style\n",
    "print(Fore.WHITE + 'some red text' + Fore.WHITE+'yeah')\n",
    "print(Back.BLACK + 'and with a green background')\n",
    "print(Style.DIM + 'and in dim text')\n",
    "print(Style.RESET_ALL)\n",
    "print('back to normal now')"
   ]
  },
  {
   "cell_type": "code",
   "execution_count": 19,
   "id": "c189f748",
   "metadata": {},
   "outputs": [
    {
     "name": "stdout",
     "output_type": "stream",
     "text": [
      "\u001b[40m\n",
      " \u001b[37mH\u001b[33mE\u001b[32mL\u001b[37mL\u001b[33mO \n",
      "\u001b[0m\n",
      "Just checking\n",
      "\u001b[40m\n",
      " \u001b[32mD\u001b[32mO\u001b[32mG\u001b[32mG\u001b[32mI \n",
      "\u001b[0m\n"
     ]
    }
   ],
   "source": [
    "def print_guess(ts,g):\n",
    "    \n",
    "    g=g.upper()\n",
    "    cs=[Fore.WHITE,Fore.YELLOW,Fore.GREEN]\n",
    "\n",
    "    print(Back.BLACK)\n",
    "    print(' '+cs[ts[0]]+g[0]+cs[ts[1]]+g[1]+cs[ts[2]]+g[2]+cs[ts[3]]+g[3]+cs[ts[4]]+g[4]+' ')\n",
    "    print(Style.RESET_ALL)\n",
    "    \n",
    "    \n",
    "print_guess([0,1,2,0,1],'hello')\n",
    "print('Just checking')\n",
    "print_guess([2,2,2,2,2],'doggi')"
   ]
  },
  {
   "cell_type": "code",
   "execution_count": null,
   "id": "b1ec09d6",
   "metadata": {},
   "outputs": [],
   "source": [
    "plist=read.word_list('possible')\n",
    "glist=read.word_list('allowed')\n",
    "\n",
    "\n",
    "big_arr=np.load('wbot/all_tiles.npz')['data']\n",
    "sal_patterns=np.load('wbot/salet_patterns.npy')\n",
    "sal_guess=np.load('wbot/salet_guess.npy')"
   ]
  },
  {
   "cell_type": "code",
   "execution_count": 20,
   "id": "e35fa5ac",
   "metadata": {},
   "outputs": [
    {
     "name": "stdout",
     "output_type": "stream",
     "text": [
      "Word to guess: ^C\n",
      "Traceback (most recent call last):\n",
      "  File \"/home/bboyd/WordleBot/auto_solve.py\", line 57, in <module>\n",
      "    true_word=input('Word to guess: ')\n",
      "KeyboardInterrupt\n"
     ]
    }
   ],
   "source": [
    "! python auto_solve.py"
   ]
  },
  {
   "cell_type": "code",
   "execution_count": 23,
   "id": "048b2531",
   "metadata": {},
   "outputs": [
    {
     "name": "stdout",
     "output_type": "stream",
     "text": [
      "\u001b[40m\n",
      "\u001b[33mH\u001b[32mE\u001b[37mL\u001b[32mL\u001b[33mO\n",
      "\u001b[0m\n"
     ]
    }
   ],
   "source": [
    "from wbot import printing\n",
    "\n",
    "printing.print_guess([1,2,0,2,1],'hello')"
   ]
  },
  {
   "cell_type": "code",
   "execution_count": null,
   "id": "5ea0766b",
   "metadata": {},
   "outputs": [],
   "source": []
  }
 ],
 "metadata": {
  "anaconda-cloud": {},
  "kernelspec": {
   "display_name": "Python 3 (ipykernel)",
   "language": "python",
   "name": "python3"
  },
  "language_info": {
   "codemirror_mode": {
    "name": "ipython",
    "version": 3
   },
   "file_extension": ".py",
   "mimetype": "text/x-python",
   "name": "python",
   "nbconvert_exporter": "python",
   "pygments_lexer": "ipython3",
   "version": "3.9.7"
  }
 },
 "nbformat": 4,
 "nbformat_minor": 5
}
