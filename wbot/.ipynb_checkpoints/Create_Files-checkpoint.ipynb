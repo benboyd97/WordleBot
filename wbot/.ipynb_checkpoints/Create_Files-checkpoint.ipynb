{
 "cells": [
  {
   "cell_type": "code",
   "execution_count": null,
   "id": "74bb920b",
   "metadata": {},
   "outputs": [],
   "source": [
    "import numpy as np\n",
    "\n",
    "import sys\n",
    "\n",
    "sys.path.append('../')\n",
    "sys.path.append('./')\n",
    "sys.path.append('wbot/')\n",
    "sys.path.append('WordleBot/wbot/')\n",
    "\n",
    "from wbot import read,play\n",
    "\n",
    "plist=read.word_list('possible')\n",
    "glist=read.word_list('allowed')\n",
    "\n",
    "\n",
    "big_arr=[]\n",
    "\n",
    "for i, g in enumerate(glist):\n",
    "    small_arr=[]\n",
    "    for j,p in enumerate(plist):\n",
    "        small_arr+=[play.tiles(p,g)]\n",
    "    \n",
    "    big_arr+=[small_arr]\n",
    "    \n",
    "    if i%100==0:\n",
    "        print(i)\n",
    "\n",
    "\n",
    "\n",
    "big_arr=np.array(big_arr)\n",
    "\n",
    "\n",
    "np.savez_compressed('all_tiles.npz',data=big_arr)\n"
   ]
  },
  {
   "cell_type": "code",
   "execution_count": null,
   "id": "08eff117",
   "metadata": {},
   "outputs": [],
   "source": [
    "import numpy as np\n",
    "\n",
    "import sys\n",
    "\n",
    "sys.path.append('../')\n",
    "sys.path.append('./')\n",
    "sys.path.append('wbot/')\n",
    "sys.path.append('WordleBot/wbot/')\n",
    "\n",
    "from wbot import read,play,solve\n",
    "\n",
    "big_arr=np.load('all_tiles.npz')['data']\n",
    "un_pat=np.unique(big_arr[12489,:,:],axis=0)\n",
    "\n",
    "\n",
    "g_word=[]\n",
    "for pat in un_pat:\n",
    "    \n",
    "    print(pat)\n",
    "    \n",
    "    tgrid,plist_=solve.reduce('salet',pat,big_arr,np.array(plist),np.array(glist))\n",
    "\n",
    "    x=solve.info_grid(tgrid)\n",
    "\n",
    "    guess=glist[np.argmax(x)]\n",
    "    \n",
    "    g_word+=[guess]\n",
    "    \n",
    "    print(pat,guess)\n",
    "    \n",
    "np.save('salet_patterns.npy',un_pat)\n",
    "np.save('salet_guess.npy',g_word,)"
   ]
  }
 ],
 "metadata": {
  "kernelspec": {
   "display_name": "Python 3 (ipykernel)",
   "language": "python",
   "name": "python3"
  },
  "language_info": {
   "codemirror_mode": {
    "name": "ipython",
    "version": 3
   },
   "file_extension": ".py",
   "mimetype": "text/x-python",
   "name": "python",
   "nbconvert_exporter": "python",
   "pygments_lexer": "ipython3",
   "version": "3.9.7"
  }
 },
 "nbformat": 4,
 "nbformat_minor": 5
}
