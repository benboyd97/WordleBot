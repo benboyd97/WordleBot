{
 "cells": [
  {
   "cell_type": "code",
   "execution_count": 87,
   "id": "abc9fcb3",
   "metadata": {},
   "outputs": [
    {
     "name": "stdout",
     "output_type": "stream",
     "text": [
      "0.9999999999999991\n"
     ]
    }
   ],
   "source": [
    "from wbot import read,play\n",
    "\n",
    "wlist=read.word_list('possible')\n",
    "\n",
    "big_arr=[]\n",
    "\n",
    "for i,w in enumerate(wlist):\n",
    "    small_arr=[]\n",
    "    for j,v in enumerate(wlist):\n",
    "        small_arr+=[play.tiles(v,w)]\n",
    "    big_arr+=[small_arr]\n",
    "\n",
    "\n",
    "\n",
    "big_arr=np.array(big_arr)\n",
    "\n",
    "un_pat=np.unique(big_arr.reshape(big_arr.shape[0]**2,5),axis=0)\n",
    "\n",
    "\n",
    "p=0\n",
    "for i in range(len(un_pat)):\n",
    "    p+=len(np.where(np.prod(big_arr == un_pat[i,:], axis = -1))[0])/(big_arr.shape[0])**2\n",
    "print(p)"
   ]
  },
  {
   "cell_type": "code",
   "execution_count": 24,
   "id": "73f5e0ae",
   "metadata": {},
   "outputs": [
    {
     "data": {
      "text/plain": [
       "[2, 2, 2, 2, 2]"
      ]
     },
     "execution_count": 24,
     "metadata": {},
     "output_type": "execute_result"
    }
   ],
   "source": [
    "play.tiles('homer','homer'"
   ]
  },
  {
   "cell_type": "code",
   "execution_count": 35,
   "id": "68f056a9",
   "metadata": {},
   "outputs": [
    {
     "name": "stdout",
     "output_type": "stream",
     "text": [
      "(array([1, 2]),)\n"
     ]
    }
   ],
   "source": [
    "import numpy as np\n",
    "ll=np.array([[6,5,4],[4,5,6],[4,5,6]])\n",
    "\n",
    "\n",
    "print(np.where(np.prod(ll == [4,5,6], axis = -1)))\n",
    "\n"
   ]
  },
  {
   "cell_type": "code",
   "execution_count": null,
   "id": "fa13cf4b",
   "metadata": {},
   "outputs": [],
   "source": [
    "data = np.array( [  [1,2] , [1,3] ,[3,4], [1,2] , [0,9] ])\n",
    "\n",
    "In [117]: np.where(np.prod(data == [1,2], axis = -1))\n",
    "Out[117]: (array([0, 3]),)\n"
   ]
  }
 ],
 "metadata": {
  "kernelspec": {
   "display_name": "Python 3 (ipykernel)",
   "language": "python",
   "name": "python3"
  },
  "language_info": {
   "codemirror_mode": {
    "name": "ipython",
    "version": 3
   },
   "file_extension": ".py",
   "mimetype": "text/x-python",
   "name": "python",
   "nbconvert_exporter": "python",
   "pygments_lexer": "ipython3",
   "version": "3.9.7"
  }
 },
 "nbformat": 4,
 "nbformat_minor": 5
}
